{
 "cells": [
  {
   "cell_type": "markdown",
   "id": "fabulous-archive",
   "metadata": {},
   "source": [
    "Задача №1. \"Треугольник с максимальным периметром\""
   ]
  },
  {
   "cell_type": "code",
   "execution_count": 13,
   "id": "radio-priest",
   "metadata": {},
   "outputs": [
    {
     "name": "stdout",
     "output_type": "stream",
     "text": [
      "[8, 5, 4, 3, 2, 1]\n",
      "17\n"
     ]
    }
   ],
   "source": [
    "nums = [1,4,3,8,5,2]\n",
    "nums = sorted(nums)\n",
    "nums.reverse()\n",
    "print(nums)\n",
    "for i in range(0, len(nums)-2):\n",
    "    if (nums[i] < nums[i + 1] + nums[i + 2]) and(nums[i+1]< nums[i] + nums[i + 2]) and(nums[i + 2] < nums[i + 1] + nums[i]):\n",
    "        p = nums[i] + nums[i + 1] + nums[i + 2]\n",
    "        print (p)\n",
    "        break\n",
    "if (p == 0):\n",
    "    print(\"Треугольника не существует\")\n"
   ]
  },
  {
   "cell_type": "markdown",
   "id": "favorite-complement",
   "metadata": {},
   "source": [
    "Задача №2. \"Максимальное число\""
   ]
  },
  {
   "cell_type": "code",
   "execution_count": 115,
   "id": "coral-clinton",
   "metadata": {},
   "outputs": [
    {
     "name": "stdout",
     "output_type": "stream",
     "text": [
      "[100, 99, 36, 25, 20, 15, 10, 8, 5, 4, 3, 2, 1, 0]\n",
      "[99, 8, 5, 4, 36, 3, 25, 2, 20, 15, 1, 10, 100, 0]\n",
      "9985436325220151101000\n"
     ]
    }
   ],
   "source": [
    "Arr = [10, 8, 5, 2, 3,15,1, 4,36, 99,25,20,100,0]\n",
    "Arr = sorted(Arr)\n",
    "Arr.reverse()\n",
    "print(Arr)\n",
    "num = 0\n",
    "for i in range(len(Arr)):\n",
    "    if Arr[i]<10:\n",
    "        num +=1\n",
    "for j in range(len(Arr)-num,len(Arr)):\n",
    "    current = Arr[j]\n",
    "    i = j-1\n",
    "    while i >=0 and current >= (Arr[i]//10):\n",
    "        if current == (Arr[i]//10):\n",
    "            if current < (Arr[i]%10):\n",
    "                break\n",
    "        Arr[i+1] = Arr[i]\n",
    "        i -= 1\n",
    "        if Arr[i]//10==0:\n",
    "            break\n",
    "    Arr[i+1] = current \n",
    "            \n",
    "if Arr[0]==100:\n",
    "  \n",
    "    if Arr[len(Arr)-1]==0:\n",
    "        for i in range(len(Arr)-2):\n",
    "            Arr[i]=Arr[i+1]\n",
    "        Arr[len(Arr)-2]=100\n",
    "            \n",
    "            \n",
    "          \n",
    "    else:\n",
    "        for i in range(len(Arr)-1):\n",
    "            Arr[i]=Arr[i+1]\n",
    "        Arr[len(Arr)-1]=100\n",
    "print(Arr)\n",
    "print(\"\".join([str(i) for i in Arr]))"
   ]
  },
  {
   "cell_type": "markdown",
   "id": "original-corps",
   "metadata": {},
   "source": [
    "Задача №3. \"Сортировка диагоналей в матрице\""
   ]
  },
  {
   "cell_type": "code",
   "execution_count": 120,
   "id": "played-depression",
   "metadata": {},
   "outputs": [],
   "source": [
    "import random \n",
    "def randMatrix(n,m):\n",
    "    arr = [[random.randint(1, 100) for i in range(n)] for j in range(m)]\n",
    "    return arr"
   ]
  },
  {
   "cell_type": "code",
   "execution_count": 121,
   "id": "informative-strengthening",
   "metadata": {},
   "outputs": [],
   "source": [
    "def print_arr(arr):\n",
    "    for i in range(len(arr)):\n",
    "        for j in range(len(arr[i])):\n",
    "            print(arr[i][j], end = ' ')\n",
    "        print()"
   ]
  },
  {
   "cell_type": "code",
   "execution_count": 123,
   "id": "provincial-latin",
   "metadata": {},
   "outputs": [
    {
     "name": "stdout",
     "output_type": "stream",
     "text": [
      "27 91 56 \n",
      "99 93 41 \n",
      "65 64 66 \n"
     ]
    }
   ],
   "source": [
    "n=3\n",
    "m=3\n",
    "arr = randMatrix(n,m)\n",
    "print_arr(arr)\n",
    "\n"
   ]
  },
  {
   "cell_type": "code",
   "execution_count": 182,
   "id": "typical-driving",
   "metadata": {},
   "outputs": [
    {
     "name": "stdout",
     "output_type": "stream",
     "text": [
      "44 42 55 25 33 \n",
      "76 29 72 97 83 \n",
      "99 88 7 12 24 \n",
      "1 39 75 39 91 \n",
      "[7, 29, 44]\n",
      "[7, 12, 29, 42, 44, 72]\n",
      "[7, 12, 24, 29, 42, 44, 55, 72, 97]\n",
      "7 7 7 25 33 \n",
      "76 29 12 12 83 \n",
      "99 88 44 29 24 \n",
      "1 39 75 39 91 \n"
     ]
    }
   ],
   "source": [
    "n=5\n",
    "m=4\n",
    "a = randMatrix(n,m)\n",
    "print_arr(a)\n",
    "arr = []\n",
    "for i in range(m-1): \n",
    "    for j in range(n-2):\n",
    "        arr.append(a[j][j+i])\n",
    "        arr = sorted(arr)\n",
    "    print(arr)\n",
    "    for j in range(n-2):\n",
    "        a[j][j+i] = arr[j]\n",
    "print_arr(a) \n"
   ]
  },
  {
   "cell_type": "code",
   "execution_count": 179,
   "id": "developmental-western",
   "metadata": {},
   "outputs": [
    {
     "name": "stdout",
     "output_type": "stream",
     "text": [
      "47 81 36 32 61 \n",
      "52 70 99 80 60 \n",
      "32 33 45 39 34 \n",
      "92 2 2 76 74 \n"
     ]
    },
    {
     "ename": "IndexError",
     "evalue": "list index out of range",
     "output_type": "error",
     "traceback": [
      "\u001b[1;31m---------------------------------------------------------------------------\u001b[0m",
      "\u001b[1;31mIndexError\u001b[0m                                Traceback (most recent call last)",
      "\u001b[1;32m<ipython-input-179-006b05cd404d>\u001b[0m in \u001b[0;36m<module>\u001b[1;34m\u001b[0m\n\u001b[0;32m      5\u001b[0m \u001b[1;32mfor\u001b[0m \u001b[0mi\u001b[0m \u001b[1;32min\u001b[0m \u001b[0mrange\u001b[0m\u001b[1;33m(\u001b[0m\u001b[0mn\u001b[0m\u001b[1;33m-\u001b[0m\u001b[1;36m1\u001b[0m\u001b[1;33m)\u001b[0m\u001b[1;33m:\u001b[0m\u001b[1;33m\u001b[0m\u001b[1;33m\u001b[0m\u001b[0m\n\u001b[0;32m      6\u001b[0m     \u001b[1;32mfor\u001b[0m \u001b[0mj\u001b[0m \u001b[1;32min\u001b[0m \u001b[0mrange\u001b[0m\u001b[1;33m(\u001b[0m\u001b[0mm\u001b[0m\u001b[1;33m-\u001b[0m\u001b[1;36m1\u001b[0m\u001b[1;33m)\u001b[0m\u001b[1;33m:\u001b[0m\u001b[1;33m\u001b[0m\u001b[1;33m\u001b[0m\u001b[0m\n\u001b[1;32m----> 7\u001b[1;33m         \u001b[1;32mif\u001b[0m \u001b[0ma\u001b[0m\u001b[1;33m[\u001b[0m\u001b[0mj\u001b[0m\u001b[1;33m]\u001b[0m\u001b[1;33m[\u001b[0m\u001b[0mi\u001b[0m\u001b[1;33m]\u001b[0m \u001b[1;33m>\u001b[0m \u001b[0ma\u001b[0m\u001b[1;33m[\u001b[0m\u001b[0mj\u001b[0m\u001b[1;33m+\u001b[0m\u001b[1;36m1\u001b[0m\u001b[1;33m]\u001b[0m\u001b[1;33m[\u001b[0m\u001b[0mj\u001b[0m\u001b[1;33m+\u001b[0m\u001b[0mi\u001b[0m\u001b[1;33m+\u001b[0m\u001b[1;36m1\u001b[0m\u001b[1;33m]\u001b[0m\u001b[1;33m:\u001b[0m\u001b[1;33m\u001b[0m\u001b[1;33m\u001b[0m\u001b[0m\n\u001b[0m\u001b[0;32m      8\u001b[0m             \u001b[0ma\u001b[0m\u001b[1;33m[\u001b[0m\u001b[0mj\u001b[0m\u001b[1;33m]\u001b[0m\u001b[1;33m[\u001b[0m\u001b[0mi\u001b[0m\u001b[1;33m]\u001b[0m\u001b[1;33m,\u001b[0m\u001b[0ma\u001b[0m\u001b[1;33m[\u001b[0m\u001b[0mj\u001b[0m\u001b[1;33m]\u001b[0m\u001b[1;33m[\u001b[0m\u001b[0mj\u001b[0m\u001b[1;33m+\u001b[0m\u001b[0mi\u001b[0m\u001b[1;33m]\u001b[0m \u001b[1;33m=\u001b[0m \u001b[0ma\u001b[0m\u001b[1;33m[\u001b[0m\u001b[0mj\u001b[0m\u001b[1;33m]\u001b[0m\u001b[1;33m[\u001b[0m\u001b[0mj\u001b[0m\u001b[1;33m+\u001b[0m\u001b[0mi\u001b[0m\u001b[1;33m]\u001b[0m\u001b[1;33m,\u001b[0m\u001b[0ma\u001b[0m\u001b[1;33m[\u001b[0m\u001b[0mj\u001b[0m\u001b[1;33m]\u001b[0m\u001b[1;33m[\u001b[0m\u001b[0mi\u001b[0m\u001b[1;33m]\u001b[0m\u001b[1;33m\u001b[0m\u001b[1;33m\u001b[0m\u001b[0m\n\u001b[0;32m      9\u001b[0m \u001b[1;33m\u001b[0m\u001b[0m\n",
      "\u001b[1;31mIndexError\u001b[0m: list index out of range"
     ]
    }
   ],
   "source": [
    "n=5\n",
    "m=4\n",
    "a = randMatrix(n,m)\n",
    "print_arr(a)\n",
    "for i in range(n-1): \n",
    "    for j in range(m-1):\n",
    "        if a[j][i] > a[j+1][j+i+1]:\n",
    "            a[j][i],a[j][j+i] = a[j][j+i],a[j][i]\n",
    "       \n",
    "print()\n",
    "for r in a:\n",
    "    print(*r)"
   ]
  },
  {
   "cell_type": "code",
   "execution_count": null,
   "id": "mediterranean-software",
   "metadata": {},
   "outputs": [],
   "source": []
  }
 ],
 "metadata": {
  "kernelspec": {
   "display_name": "Python 3",
   "language": "python",
   "name": "python3"
  },
  "language_info": {
   "codemirror_mode": {
    "name": "ipython",
    "version": 3
   },
   "file_extension": ".py",
   "mimetype": "text/x-python",
   "name": "python",
   "nbconvert_exporter": "python",
   "pygments_lexer": "ipython3",
   "version": "3.9.1"
  }
 },
 "nbformat": 4,
 "nbformat_minor": 5
}
