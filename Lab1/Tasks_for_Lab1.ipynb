{
 "cells": [
  {
   "cell_type": "markdown",
   "id": "private-format",
   "metadata": {},
   "source": [
    "Задача №1. \"Треугольник с максимальным периметром\""
   ]
  },
  {
   "cell_type": "code",
   "execution_count": 1,
   "id": "activated-beach",
   "metadata": {},
   "outputs": [
    {
     "name": "stdout",
     "output_type": "stream",
     "text": [
      "[8, 5, 4, 3, 2, 1]\n",
      "17\n"
     ]
    }
   ],
   "source": [
    "nums = [1,4,3,8,5,2]\n",
    "nums = sorted(nums)\n",
    "nums.reverse()\n",
    "print(nums)\n",
    "for i in range(0, len(nums)-2):\n",
    "    if (nums[i] < nums[i + 1] + nums[i + 2]) and(nums[i+1]< nums[i] + nums[i + 2]) and(nums[i + 2] < nums[i + 1] + nums[i]):\n",
    "        p = nums[i] + nums[i + 1] + nums[i + 2]\n",
    "        print (p)\n",
    "        break\n",
    "if (p == 0):\n",
    "    print(\"Треугольника не существует\")\n"
   ]
  },
  {
   "cell_type": "markdown",
   "id": "developing-boutique",
   "metadata": {},
   "source": [
    "Задача №2. \"Максимальное число\""
   ]
  },
  {
   "cell_type": "code",
   "execution_count": 2,
   "id": "republican-lottery",
   "metadata": {},
   "outputs": [
    {
     "name": "stdout",
     "output_type": "stream",
     "text": [
      "[100, 99, 36, 25, 20, 15, 10, 8, 5, 4, 3, 2, 1, 0]\n",
      "[99, 8, 5, 4, 36, 3, 25, 2, 20, 15, 1, 10, 100, 0]\n",
      "9985436325220151101000\n"
     ]
    }
   ],
   "source": [
    "Arr = [10, 8, 5, 2, 3,15,1, 4,36, 99,25,20,100,0]\n",
    "Arr = sorted(Arr)\n",
    "Arr.reverse()\n",
    "print(Arr)\n",
    "num = 0\n",
    "for i in range(len(Arr)):\n",
    "    if Arr[i]<10:\n",
    "        num +=1\n",
    "for j in range(len(Arr)-num,len(Arr)):\n",
    "    current = Arr[j]\n",
    "    i = j-1\n",
    "    while i >=0 and current >= (Arr[i]//10):\n",
    "        if current == (Arr[i]//10):\n",
    "            if current < (Arr[i]%10):\n",
    "                break\n",
    "        Arr[i+1] = Arr[i]\n",
    "        i -= 1\n",
    "        if Arr[i]//10==0:\n",
    "            break\n",
    "    Arr[i+1] = current \n",
    "            \n",
    "if Arr[0]==100:\n",
    "  \n",
    "    if Arr[len(Arr)-1]==0:\n",
    "        for i in range(len(Arr)-2):\n",
    "            Arr[i]=Arr[i+1]\n",
    "        Arr[len(Arr)-2]=100\n",
    "            \n",
    "            \n",
    "          \n",
    "    else:\n",
    "        for i in range(len(Arr)-1):\n",
    "            Arr[i]=Arr[i+1]\n",
    "        Arr[len(Arr)-1]=100\n",
    "print(Arr)\n",
    "print(\"\".join([str(i) for i in Arr]))"
   ]
  },
  {
   "cell_type": "markdown",
   "id": "retained-costume",
   "metadata": {},
   "source": [
    "Задача №3. \"Сортировка диагоналей в матрице\""
   ]
  },
  {
   "cell_type": "code",
   "execution_count": 3,
   "id": "static-salad",
   "metadata": {},
   "outputs": [],
   "source": [
    "import random \n",
    "def randMatrix(n,m):\n",
    "    arr = [[random.randint(1, 100) for i in range(n)] for j in range(m)]\n",
    "    return arr"
   ]
  },
  {
   "cell_type": "code",
   "execution_count": 4,
   "id": "sustained-billy",
   "metadata": {},
   "outputs": [],
   "source": [
    "def print_arr(arr):\n",
    "    for i in range(len(arr)):\n",
    "        for j in range(len(arr[i])):\n",
    "            print(arr[i][j], end = ' ')\n",
    "        print()"
   ]
  },
  {
   "cell_type": "code",
   "execution_count": 13,
   "id": "canadian-waters",
   "metadata": {},
   "outputs": [
    {
     "name": "stdout",
     "output_type": "stream",
     "text": [
      "47 68 57 100 61 \n",
      "18 86 54 20 82 \n",
      "94 43 1 36 16 \n",
      "80 21 53 43 52 \n",
      "\n",
      "1 36 16 82 61\n",
      "18 43 52 20 100\n",
      "21 43 47 54 57\n",
      "80 94 53 86 68\n"
     ]
    }
   ],
   "source": [
    "n=5\n",
    "m=4\n",
    "a = randMatrix(n,m)\n",
    "print_arr(a)\n",
    "while True:\n",
    "    c = 0\n",
    "    for j in range(n): \n",
    "        for i in range(m):\n",
    "            try:\n",
    "                if a[j][i] > a[j+1][i+1]:\n",
    "                    c = 1\n",
    "                    a[j][i],a[j+1][1+i] = a[j+1][1+i],a[j][i]\n",
    "            except:\n",
    "                continue\n",
    "    if c ==0:\n",
    "        break\n",
    "print()\n",
    "for r in a:\n",
    "    print(*r)"
   ]
  },
  {
   "cell_type": "code",
   "execution_count": null,
   "id": "chicken-python",
   "metadata": {},
   "outputs": [],
   "source": []
  }
 ],
 "metadata": {
  "kernelspec": {
   "display_name": "Python 3",
   "language": "python",
   "name": "python3"
  },
  "language_info": {
   "codemirror_mode": {
    "name": "ipython",
    "version": 3
   },
   "file_extension": ".py",
   "mimetype": "text/x-python",
   "name": "python",
   "nbconvert_exporter": "python",
   "pygments_lexer": "ipython3",
   "version": "3.9.1"
  }
 },
 "nbformat": 4,
 "nbformat_minor": 5
}
