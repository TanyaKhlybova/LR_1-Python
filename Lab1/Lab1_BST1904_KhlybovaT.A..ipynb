{
 "cells": [
  {
   "cell_type": "markdown",
   "id": "convinced-doctrine",
   "metadata": {},
   "source": [
    "# Лабораторная работа №1\n",
    "## Выполнила студентка группы БСТ1904 ХлыбоваТ.А.\n",
    "### Задание №1\n",
    "Вывод \"Hello World!\""
   ]
  },
  {
   "cell_type": "code",
   "execution_count": 5,
   "id": "muslim-clearing",
   "metadata": {},
   "outputs": [
    {
     "name": "stdout",
     "output_type": "stream",
     "text": [
      "Hello World!\n"
     ]
    }
   ],
   "source": [
    "print(\"Hello World!\")"
   ]
  },
  {
   "cell_type": "markdown",
   "id": "interior-consultancy",
   "metadata": {},
   "source": [
    "### Задание №2\n",
    "Генератор случайных матриц"
   ]
  },
  {
   "cell_type": "code",
   "execution_count": 2,
   "id": "certain-lebanon",
   "metadata": {},
   "outputs": [],
   "source": [
    "import random \n",
    "def randMatrix(n,m):\n",
    "    arr = [[random.randint(-250, 1019) for i in range(n)] for j in range(m)]\n",
    "    return arr\n",
    "    \n",
    "            "
   ]
  },
  {
   "cell_type": "code",
   "execution_count": 3,
   "id": "national-dietary",
   "metadata": {},
   "outputs": [],
   "source": [
    "def print_arr(arr):\n",
    "    for i in range(len(arr)):\n",
    "        for j in range(len(arr[i])):\n",
    "            print(arr[i][j], end = ' ')\n",
    "        print()"
   ]
  },
  {
   "cell_type": "code",
   "execution_count": 5,
   "id": "multiple-reply",
   "metadata": {},
   "outputs": [
    {
     "name": "stdout",
     "output_type": "stream",
     "text": [
      "771 434 142 787 542 \n",
      "-233 11 453 796 200 \n",
      "610 795 309 813 915 \n",
      "894 771 801 237 609 \n",
      "324 914 665 -202 736 \n"
     ]
    }
   ],
   "source": [
    "n=5\n",
    "m=5\n",
    "arr = randMatrix(n,m)\n",
    "print_arr(arr)\n",
    "            \n"
   ]
  },
  {
   "cell_type": "markdown",
   "id": "ongoing-alexandria",
   "metadata": {},
   "source": [
    "### Задание №3\n",
    "Реализация сортировки выбором"
   ]
  },
  {
   "cell_type": "code",
   "execution_count": 9,
   "id": "mental-cancer",
   "metadata": {},
   "outputs": [],
   "source": [
    "def selection_sort(arr):\n",
    "    for row in arr:\n",
    "        for i in range(len(row)):\n",
    "            minimal = i\n",
    "            j = i+1\n",
    "            while j < len(row):\n",
    "                if (row[j]<row[minimal]):\n",
    "                    minimal = j\n",
    "                j+=1\n",
    "            row[i],row[minimal] = row[minimal],row[i]\n",
    "        "
   ]
  },
  {
   "cell_type": "code",
   "execution_count": 10,
   "id": "changing-culture",
   "metadata": {},
   "outputs": [
    {
     "name": "stdout",
     "output_type": "stream",
     "text": [
      "Исходная матрица\n",
      "491 902 -58 \n",
      "777 640 718 \n",
      "977 826 -21 \n",
      "Матрица с отсортированными строками\n",
      "-58 491 902 \n",
      "640 718 777 \n",
      "-21 826 977 \n",
      "Время работы алгоритма:  0.0009925365447998047\n"
     ]
    }
   ],
   "source": [
    "import time\n",
    "arr = randMatrix(3,3)\n",
    "print(\"Исходная матрица\")\n",
    "print_arr(arr)\n",
    "print(\"Матрица с отсортированными строками\")\n",
    "start_time = time.time()\n",
    "selection_sort(arr)\n",
    "print_arr(arr)\n",
    "print(\"Время работы алгоритма: \", time.time() - start_time)\n"
   ]
  },
  {
   "cell_type": "code",
   "execution_count": 11,
   "id": "organized-giving",
   "metadata": {},
   "outputs": [
    {
     "name": "stdout",
     "output_type": "stream",
     "text": [
      "-58 491 902 \n",
      "640 718 777 \n",
      "-21 826 977 \n",
      "Время работы стандартной сортировки:  0.0019588470458984375\n"
     ]
    }
   ],
   "source": [
    "import time\n",
    "start_time = time.time()\n",
    "sorted(arr)\n",
    "print_arr(arr)\n",
    "print(\"Время работы стандартной сортировки: \", time.time() - start_time)\n"
   ]
  },
  {
   "cell_type": "markdown",
   "id": "specialized-wagner",
   "metadata": {},
   "source": [
    "Реализация сортировки вставкой"
   ]
  },
  {
   "cell_type": "code",
   "execution_count": 12,
   "id": "selective-novelty",
   "metadata": {},
   "outputs": [],
   "source": [
    "def insertion_sort(arr):\n",
    "    for row in arr:\n",
    "        for i in range(1, len(row)):\n",
    "            current = row[i]\n",
    "            j = i-1\n",
    "            while j >=0 and current < row[j] :\n",
    "                row[j+1] = row[j]\n",
    "                j -= 1\n",
    "            row[j+1] = current"
   ]
  },
  {
   "cell_type": "code",
   "execution_count": 13,
   "id": "streaming-running",
   "metadata": {},
   "outputs": [
    {
     "name": "stdout",
     "output_type": "stream",
     "text": [
      "Исходная матрица\n",
      "693 372 621 \n",
      "971 766 516 \n",
      "-6 -170 -53 \n",
      "Матрица с отсортированными строками\n",
      "372 621 693 \n",
      "516 766 971 \n",
      "-170 -53 -6 \n",
      "Время работы алгоритма:  0.0003211498260498047\n"
     ]
    }
   ],
   "source": [
    "import time\n",
    "arr = randMatrix(3,3)\n",
    "print(\"Исходная матрица\")\n",
    "print_arr(arr)\n",
    "print(\"Матрица с отсортированными строками\")\n",
    "start_time = time.time()\n",
    "insertion_sort(arr)\n",
    "print_arr(arr)\n",
    "print(\"Время работы алгоритма: \", time.time() - start_time)\n"
   ]
  },
  {
   "cell_type": "markdown",
   "id": "romance-economy",
   "metadata": {},
   "source": [
    "Реализация сортировки обменом"
   ]
  },
  {
   "cell_type": "code",
   "execution_count": 14,
   "id": "waiting-consultancy",
   "metadata": {},
   "outputs": [],
   "source": [
    "def bubble_sort(arr):\n",
    "    for row in arr:\n",
    "        for i in range(len(row)-1):\n",
    "            for j in range(len(row)-i-1):\n",
    "                if row[j] > row[j+1]:\n",
    "                    row[j], row[j+1] = row[j+1], row[j]"
   ]
  },
  {
   "cell_type": "code",
   "execution_count": 15,
   "id": "bulgarian-shanghai",
   "metadata": {},
   "outputs": [
    {
     "name": "stdout",
     "output_type": "stream",
     "text": [
      "Исходная матрица\n",
      "887 643 -88 \n",
      "-202 122 912 \n",
      "546 -160 -22 \n",
      "Матрица с отсортированными строками\n",
      "-88 643 887 \n",
      "-202 122 912 \n",
      "-160 -22 546 \n",
      "Время работы алгоритма:  0.001989126205444336\n"
     ]
    }
   ],
   "source": [
    "import time\n",
    "arr = randMatrix(3,3)\n",
    "print(\"Исходная матрица\")\n",
    "print_arr(arr)\n",
    "print(\"Матрица с отсортированными строками\")\n",
    "start_time = time.time()\n",
    "bubble_sort(arr)\n",
    "print_arr(arr)\n",
    "print(\"Время работы алгоритма: \", time.time() - start_time)\n"
   ]
  },
  {
   "cell_type": "markdown",
   "id": "exact-perth",
   "metadata": {},
   "source": [
    "Реализация сортировки методом Шелла"
   ]
  },
  {
   "cell_type": "code",
   "execution_count": 16,
   "id": "atomic-space",
   "metadata": {},
   "outputs": [],
   "source": [
    " def shell_sort(arr):\n",
    "        for row in arr:\n",
    "            inc = len(row)//2\n",
    "            while inc > 0:            \n",
    "                for i in range(inc, len(row)):\n",
    "                    current = row[i]\n",
    "                    j = i\n",
    "                    while j >= inc and row[j - inc] > current:                   \n",
    "                        row[j] = row[j - inc]\n",
    "                        j -= inc\n",
    "                    row[j] = current\n",
    "                inc //= 2\n",
    "            "
   ]
  },
  {
   "cell_type": "code",
   "execution_count": 17,
   "id": "studied-press",
   "metadata": {},
   "outputs": [
    {
     "name": "stdout",
     "output_type": "stream",
     "text": [
      "Исходная матрица\n",
      "358 -97 496 986 674 189 181 245 33 201 \n",
      "672 358 874 262 580 -227 -182 91 43 780 \n",
      "460 571 566 -23 387 151 684 -100 613 -156 \n",
      "Матрица с отсортированными строками\n",
      "-97 33 181 189 201 245 358 496 674 986 \n",
      "-227 -182 43 91 262 358 580 672 780 874 \n",
      "-156 -100 -23 151 387 460 566 571 613 684 \n",
      "Время работы алгоритма:  0.003972053527832031\n"
     ]
    }
   ],
   "source": [
    "import time\n",
    "arr = randMatrix(10,3)\n",
    "print(\"Исходная матрица\")\n",
    "print_arr(arr)\n",
    "print(\"Матрица с отсортированными строками\")\n",
    "start_time = time.time()\n",
    "shell_sort(arr)\n",
    "print_arr(arr)\n",
    "print(\"Время работы алгоритма: \", time.time() - start_time)"
   ]
  },
  {
   "cell_type": "markdown",
   "id": "veterinary-caution",
   "metadata": {},
   "source": [
    "Реализация турнирной/пирамидальной сортировки "
   ]
  },
  {
   "cell_type": "code",
   "execution_count": 18,
   "id": "buried-access",
   "metadata": {},
   "outputs": [],
   "source": [
    "def heap_support(arr, heap_size, root_index):  \n",
    "    maximum = root_index\n",
    "    left_branch = (2 * root_index) + 1\n",
    "    right_branch = (2 * root_index) + 2\n",
    "    if left_branch < heap_size and arr[left_branch] > arr[maximum]:\n",
    "        maximum = left_branch\n",
    "    if right_branch < heap_size and arr[right_branch] > arr[maximum]:\n",
    "        maximum = right_branch\n",
    "    if maximum != root_index:\n",
    "        arr[root_index], arr[maximum] = arr[maximum], arr[root_index]\n",
    "        heap_support(arr, heap_size, maximum)"
   ]
  },
  {
   "cell_type": "code",
   "execution_count": 19,
   "id": "pursuant-resident",
   "metadata": {},
   "outputs": [],
   "source": [
    "def heap_sort(arr):\n",
    "    for row in arr:\n",
    "        n = len(row)\n",
    "        for i in range(n, -1, -1):\n",
    "            heap_support(row, n, i)\n",
    "        for i in range(n - 1, 0, -1):\n",
    "            row[i], row[0] = row[0], row[i]\n",
    "            heap_support(row, i, 0)"
   ]
  },
  {
   "cell_type": "code",
   "execution_count": 20,
   "id": "filled-choir",
   "metadata": {},
   "outputs": [
    {
     "name": "stdout",
     "output_type": "stream",
     "text": [
      "Исходная матрица\n",
      "1016 758 -227 821 438 22 715 969 -35 -234 \n",
      "314 189 168 739 720 330 318 898 214 113 \n",
      "549 641 -78 -50 180 494 227 154 -70 -101 \n",
      "Матрица с отсортированными строками\n",
      "-234 -227 -35 22 438 715 758 821 969 1016 \n",
      "113 168 189 214 314 318 330 720 739 898 \n",
      "-101 -78 -70 -50 154 180 227 494 549 641 \n",
      "Время работы алгоритма:  0.002979755401611328\n"
     ]
    }
   ],
   "source": [
    "import time\n",
    "arr = randMatrix(10,3)\n",
    "print(\"Исходная матрица\")\n",
    "print_arr(arr)\n",
    "print(\"Матрица с отсортированными строками\")\n",
    "start_time = time.time()\n",
    "heap_sort(arr)\n",
    "print_arr(arr)\n",
    "print(\"Время работы алгоритма: \", time.time() - start_time)"
   ]
  },
  {
   "cell_type": "code",
   "execution_count": 28,
   "id": "sixth-buyer",
   "metadata": {},
   "outputs": [],
   "source": [
    "def partition(array, begin, end):  \n",
    "    pivot = array[(begin + end) // 2]\n",
    "    i = begin - 1\n",
    "    j = end + 1\n",
    "    while True:\n",
    "        i += 1\n",
    "        while array[i] < pivot:\n",
    "            i += 1\n",
    "        j -= 1\n",
    "        while array[j] > pivot:\n",
    "            j -= 1\n",
    "        if i >= j:\n",
    "            return j\n",
    "        array[i], array[j] = array[j], array[i]"
   ]
  },
  {
   "cell_type": "code",
   "execution_count": 41,
   "id": "executed-fancy",
   "metadata": {},
   "outputs": [],
   "source": [
    "def quick_sort(arr, begin=0, end=None):\n",
    "    for row in arr:\n",
    "        if end is None:\n",
    "            end = len(row) - 1\n",
    "    \n",
    "        def _quicksort(array, begin, end):\n",
    "            if begin < end:\n",
    "                pivot = partition(array, begin, end)\n",
    "                _quicksort(array, begin, pivot)\n",
    "                _quicksort(array, pivot+1, end)\n",
    "        _quicksort(row, begin, end)"
   ]
  },
  {
   "cell_type": "code",
   "execution_count": 42,
   "id": "rising-bouquet",
   "metadata": {},
   "outputs": [
    {
     "name": "stdout",
     "output_type": "stream",
     "text": [
      "Исходная матрица\n",
      "574 707 373 933 -124 1010 901 874 555 703 \n",
      "218 178 743 -240 -162 871 -234 147 872 157 \n",
      "885 -140 -56 286 -146 -54 982 991 -38 532 \n",
      "Матрица с отсортированными строками\n",
      "-124 373 555 574 703 707 874 901 933 1010 \n",
      "-240 -234 -162 147 157 178 218 743 871 872 \n",
      "-146 -140 -56 -54 -38 286 532 885 982 991 \n",
      "Время работы алгоритма:  0.02681899070739746\n"
     ]
    }
   ],
   "source": [
    "import time\n",
    "arr = randMatrix(10,3)\n",
    "print(\"Исходная матрица\")\n",
    "print_arr(arr)\n",
    "print(\"Матрица с отсортированными строками\")\n",
    "start_time = time.time()\n",
    "quick_sort(arr)\n",
    "print_arr(arr)\n",
    "print(\"Время работы алгоритма: \", time.time() - start_time)"
   ]
  },
  {
   "cell_type": "code",
   "execution_count": null,
   "id": "breeding-philadelphia",
   "metadata": {},
   "outputs": [],
   "source": []
  }
 ],
 "metadata": {
  "kernelspec": {
   "display_name": "Python 3",
   "language": "python",
   "name": "python3"
  },
  "language_info": {
   "codemirror_mode": {
    "name": "ipython",
    "version": 3
   },
   "file_extension": ".py",
   "mimetype": "text/x-python",
   "name": "python",
   "nbconvert_exporter": "python",
   "pygments_lexer": "ipython3",
   "version": "3.9.1"
  }
 },
 "nbformat": 4,
 "nbformat_minor": 5
}
